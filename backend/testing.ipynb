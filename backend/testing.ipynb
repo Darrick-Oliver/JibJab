{
 "cells": [
  {
   "cell_type": "code",
   "execution_count": 10,
   "metadata": {},
   "outputs": [],
   "source": [
    "import requests\n",
    "API_HOST='http://192.168.1.179:3001'\n",
    "\n",
    "resp = requests.post(f'{API_HOST}/api/account/login', json={\n",
    "    'email': 'asdf',\n",
    "    'password': 'asdfasdfasdf'\n",
    "})\n",
    "res_dict = resp.json()"
   ]
  },
  {
   "cell_type": "code",
   "execution_count": 2,
   "metadata": {},
   "outputs": [],
   "source": [
    "token = res_dict['data']['access_token']"
   ]
  },
  {
   "cell_type": "code",
   "execution_count": 7,
   "metadata": {},
   "outputs": [
    {
     "data": {
      "text/plain": [
       "{'error': False,\n",
       " 'errorMessage': None,\n",
       " 'data': {'creator': '63828fec5c0b5fb12e0fff43',\n",
       "  'title': 'Probably a real group',\n",
       "  'description': 'I really hope that I allowed for the subtitles to be this long, could you imagine if someone actually decided that their group chat description would be this long???',\n",
       "  'lastPost': '2023-05-26T22:53:23.665Z',\n",
       "  'location': {'type': 'Point', 'coordinates': ['12', '12']}}}"
      ]
     },
     "execution_count": 7,
     "metadata": {},
     "output_type": "execute_result"
    }
   ],
   "source": [
    "resp = requests.post(f'{API_HOST}/api/group/create', \n",
    "    headers={\n",
    "        'accesstoken': token\n",
    "    },\n",
    "    json={\n",
    "        'title': 'Probably a real group',\n",
    "        'description': 'I really hope that I allowed for the subtitles to be this long, could you imagine if someone actually decided that their group chat description would be this long???',\n",
    "        'latitude': 12,\n",
    "        'longitude': 12\n",
    "    })\n",
    "resp.json()"
   ]
  },
  {
   "cell_type": "code",
   "execution_count": 6,
   "metadata": {},
   "outputs": [
    {
     "data": {
      "text/plain": [
       "{'error': False,\n",
       " 'errorMessage': None,\n",
       " 'data': [{'_id': '646fbcbcc233f1ed219f7dd8',\n",
       "   'creator': {'_id': '63828fec5c0b5fb12e0fff43',\n",
       "    'first_name': 'Drew',\n",
       "    'last_name': 'Sod',\n",
       "    'username': 'asdf'},\n",
       "   'title': 'My Second Group',\n",
       "   'description': 'Cool',\n",
       "   'lastPost': '2023-05-25T19:53:32.911Z'},\n",
       "  {'_id': '646fbbf37a100403193eb5a0',\n",
       "   'creator': {'_id': '63828fec5c0b5fb12e0fff43',\n",
       "    'first_name': 'Drew',\n",
       "    'last_name': 'Sod',\n",
       "    'username': 'asdf'},\n",
       "   'title': 'My Amazing Title',\n",
       "   'description': '1234',\n",
       "   'lastPost': '2023-05-25T19:50:11.920Z'}]}"
      ]
     },
     "execution_count": 6,
     "metadata": {},
     "output_type": "execute_result"
    }
   ],
   "source": [
    "resp = requests.post(f'{API_HOST}/api/group/get', \n",
    "    headers={\n",
    "        'accesstoken': token\n",
    "    },\n",
    "    json={\n",
    "        'take': 5,\n",
    "        'page': 0,\n",
    "        'latitude': 12,\n",
    "        'longitude': 12,\n",
    "        'distance': 10\n",
    "    })\n",
    "resp.json()"
   ]
  }
 ],
 "metadata": {
  "kernelspec": {
   "display_name": "Python 3",
   "language": "python",
   "name": "python3"
  },
  "language_info": {
   "codemirror_mode": {
    "name": "ipython",
    "version": 3
   },
   "file_extension": ".py",
   "mimetype": "text/x-python",
   "name": "python",
   "nbconvert_exporter": "python",
   "pygments_lexer": "ipython3",
   "version": "3.11.3"
  },
  "orig_nbformat": 4
 },
 "nbformat": 4,
 "nbformat_minor": 2
}
